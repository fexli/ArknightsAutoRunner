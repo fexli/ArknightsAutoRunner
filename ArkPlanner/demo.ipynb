{
 "cells": [
  {
   "cell_type": "code",
   "execution_count": 1,
   "metadata": {},
   "outputs": [
    {
     "name": "stdout",
     "output_type": "stream",
     "text": [
      "Requesting data from web resources (i.e., penguin-stats.io and ak.graueneko.xyz)... done.\n"
     ]
    }
   ],
   "source": [
    "from MaterialPlanning import MaterialPlanning\n",
    "mp = MaterialPlanning()"
   ]
  },
  {
   "cell_type": "code",
   "execution_count": 2,
   "metadata": {},
   "outputs": [
    {
     "name": "stdout",
     "output_type": "stream",
     "text": [
      "Optimization terminated successfully, Computed in 0.0495 seconds,\n",
      "Estimated total cost 1581\n",
      "Loot at following stages:\n",
      "Stage 2-10 (45 times) ===> RMA70-12(13), 异铁(4), 酮凝集(4), 异铁碎片(3), 糖(6), 代糖(7), 双酮(6)\n",
      "Stage S3-1 (13 times) ===> 异铁(1), 酮凝集(2), 异铁碎片(1), 糖(19), 代糖(1), 双酮(1)\n",
      "Stage 1-7 (60 times) ===> 异铁碎片(2), 代糖(4), 双酮(3), 破损装置(2), 酯原料(4), 源岩(7), 固源岩(76)\n",
      "Stage 3-1 (5 times) ===> 双酮(1), 酮凝集组(2)\n",
      "Stage 4-10 (9 times) ===> 源岩(2), 固源岩(3), 全新装置(3)\n",
      "Synthesize following items:\n",
      "双极纳米片(4) <=== 改量装置(4) , 白马醇(8) \n",
      "RMA70-24(5) <=== RMA70-12(5) , 固源岩组(10) , 酮凝集组(5) \n",
      "白马醇(8) <=== 扭转醇(8) , 糖组(8) , RMA70-12(8) \n",
      "改量装置(3) <=== 全新装置(3) , 固源岩组(6) , 研磨石(3) \n",
      "酮凝集组(2) <=== 酮凝集(8) \n",
      "糖组(7) <=== 糖(28) \n",
      "固源岩组(16) <=== 固源岩(80) \n",
      "酮凝集(4) <=== 双酮(12) \n",
      "糖(4) <=== 代糖(12) \n",
      "固源岩(3) <=== 源岩(9) \n"
     ]
    }
   ],
   "source": [
    "requirement = {'双极纳米片':4, 'RMA70-24':5}\n",
    "owned = {'扭转醇':58, '研磨石':45}\n",
    "mp.get_plan(requirement, owned)"
   ]
  },
  {
   "cell_type": "code",
   "execution_count": 3,
   "metadata": {
    "scrolled": false
   },
   "outputs": [
    {
     "name": "stdout",
     "output_type": "stream",
     "text": [
      "Optimization terminated successfully, Computed in 0.0556 seconds,\n",
      "Estimated total cost 1336\n",
      "Loot at following stages:\n",
      "Stage 1-7 (57 times) ===> 异铁碎片(2), 代糖(4), 双酮(3), 破损装置(1), 酯原料(3), 源岩(7), 固源岩(72)\n",
      "Stage 4-2 (2 times) ===> 糖组(1)\n",
      "Stage 4-5 (16 times) ===> 酮凝集(1), 双酮(6), 酯原料(6), 聚酸酯(1), 酮凝集组(5)\n",
      "Stage 3-2 (8 times) ===> 源岩(1), 聚酸酯(1), 固源岩(1), 轻锰矿(2)\n",
      "Stage 3-4 (9 times) ===> 酯原料(1), 源岩(1), 聚酸酯(1), 固源岩(1), 全新装置(2)\n",
      "Stage S4-1 (16 times) ===> 异铁(2), 异铁碎片(2), 糖(3), 代糖(3), 异铁组(5)\n",
      "Stage 2-6 (2 times) ===> 源岩(1)\n",
      "Synthesize following items:\n",
      "聚合剂(4) <=== 提纯源岩(4) , 异铁块(4) , 酮阵列(4) \n",
      "酮阵列(3) <=== 酮凝集组(6) , 糖组(3) , 轻锰矿(3) \n",
      "异铁块(3) <=== 异铁组(6) , 全新装置(3) , 聚酸酯组(3) \n",
      "提纯源岩(4) <=== 固源岩组(16) \n",
      "酮凝集组(1) <=== 酮凝集(4) \n",
      "异铁组(1) <=== 异铁(4) \n",
      "聚酸酯组(2) <=== 聚酸酯(8) \n",
      "糖组(1) <=== 糖(4) \n",
      "固源岩组(16) <=== 固源岩(80) \n",
      "装置(1) <=== 破损装置(3) \n",
      "酮凝集(3) <=== 双酮(9) \n",
      "异铁(1) <=== 异铁碎片(3) \n",
      "聚酸酯(4) <=== 酯原料(12) \n",
      "糖(2) <=== 代糖(6) \n",
      "固源岩(3) <=== 源岩(9) \n"
     ]
    }
   ],
   "source": [
    "requirement_dct = {'聚合剂':4}\n",
    "mp.get_plan(requirement_dct)"
   ]
  },
  {
   "cell_type": "code",
   "execution_count": 4,
   "metadata": {},
   "outputs": [
    {
     "name": "stdout",
     "output_type": "stream",
     "text": [
      "Optimization terminated successfully, Computed in 0.0460 seconds,\n",
      "Estimated total cost 568\n",
      "Loot at following stages:\n",
      "Stage GT-5 (37 times) ===> 扭转醇(25)\n",
      "Synthesize following items:\n"
     ]
    }
   ],
   "source": [
    "requirement_dct = {'扭转醇':25}\n",
    "mp.get_plan(requirement_dct)"
   ]
  },
  {
   "cell_type": "code",
   "execution_count": 5,
   "metadata": {
    "scrolled": true
   },
   "outputs": [
    {
     "name": "stdout",
     "output_type": "stream",
     "text": [
      "Optimization terminated successfully, Computed in 0.0429 seconds,\n",
      "Estimated total cost 572\n",
      "Loot at following stages:\n",
      "Stage 1-7 (2 times) ===> 固源岩(2)\n",
      "Stage 3-2 (8 times) ===> 源岩(1), 聚酸酯(1), 固源岩(1), 轻锰矿(3)\n",
      "Stage 2-8 (36 times) ===> 异铁碎片(11), 代糖(10), 双酮(6), 异铁组(8)\n",
      "Synthesize following items:\n",
      "异铁组(1) <=== 异铁(4) \n",
      "异铁(3) <=== 异铁碎片(9) \n"
     ]
    }
   ],
   "source": [
    "requirement_dct = {'异铁组':10, '轻锰矿':3, '固源岩':5}\n",
    "mp.get_plan(requirement_dct)"
   ]
  },
  {
   "cell_type": "code",
   "execution_count": null,
   "metadata": {},
   "outputs": [],
   "source": []
  }
 ],
 "metadata": {
  "kernelspec": {
   "display_name": "Python 3",
   "language": "python",
   "name": "python3"
  },
  "language_info": {
   "codemirror_mode": {
    "name": "ipython",
    "version": 3
   },
   "file_extension": ".py",
   "mimetype": "text/x-python",
   "name": "python",
   "nbconvert_exporter": "python",
   "pygments_lexer": "ipython3",
   "version": "3.7.2"
  },
  "varInspector": {
   "cols": {
    "lenName": 16,
    "lenType": 16,
    "lenVar": 40
   },
   "kernels_config": {
    "python": {
     "delete_cmd_postfix": "",
     "delete_cmd_prefix": "del ",
     "library": "var_list.py",
     "varRefreshCmd": "print(var_dic_list())"
    },
    "r": {
     "delete_cmd_postfix": ") ",
     "delete_cmd_prefix": "rm(",
     "library": "var_list.r",
     "varRefreshCmd": "cat(var_dic_list()) "
    }
   },
   "types_to_exclude": [
    "module",
    "function",
    "builtin_function_or_method",
    "instance",
    "_Feature"
   ],
   "window_display": false
  }
 },
 "nbformat": 4,
 "nbformat_minor": 2
}
